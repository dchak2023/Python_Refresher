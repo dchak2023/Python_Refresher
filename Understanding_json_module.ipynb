{
 "cells": [
  {
   "cell_type": "markdown",
   "id": "f98359cd-036f-4f43-ab51-db0aa899c4c2",
   "metadata": {},
   "source": [
    "## Understanding the *Json* module in the Python"
   ]
  },
  {
   "cell_type": "code",
   "execution_count": 2,
   "id": "43573871-7f21-440b-87d6-81553d6df9e8",
   "metadata": {},
   "outputs": [
    {
     "name": "stdout",
     "output_type": "stream",
     "text": [
      "<class 'dict'>\n"
     ]
    }
   ],
   "source": [
    "data = {\"name\": \"John\", \"Company\": \"HP\", \"age\":21}\n",
    "print(type(data))"
   ]
  },
  {
   "cell_type": "code",
   "execution_count": 6,
   "id": "f5beac92-5d02-45db-b3c0-a8887b6e19d3",
   "metadata": {},
   "outputs": [],
   "source": [
    "# Importing the json module and then creating a json file:\n",
    "import json\n",
    "with open(\"data.json\", \"w\") as f:\n",
    "    json.dump(data, f)"
   ]
  },
  {
   "cell_type": "code",
   "execution_count": 8,
   "id": "3d0a260a-a840-4223-8a2e-4d8606081f26",
   "metadata": {},
   "outputs": [
    {
     "name": "stdout",
     "output_type": "stream",
     "text": [
      "<class 'str'>\n"
     ]
    }
   ],
   "source": [
    "print(type(\"data.json\"))"
   ]
  },
  {
   "cell_type": "code",
   "execution_count": 10,
   "id": "24f95937-8647-4729-93d5-750ce4fa8781",
   "metadata": {},
   "outputs": [
    {
     "name": "stdout",
     "output_type": "stream",
     "text": [
      "{'name': 'John', 'Company': 'HP', 'age': 21}\n"
     ]
    }
   ],
   "source": [
    "# De-serialization of the json file:\n",
    "with open(\"data.json\", \"r\") as file:\n",
    "    python_string = json.load(file)\n",
    "\n",
    "print(python_string)"
   ]
  },
  {
   "cell_type": "code",
   "execution_count": null,
   "id": "4de1374c-dccc-47ba-84d4-887232b32799",
   "metadata": {},
   "outputs": [],
   "source": []
  }
 ],
 "metadata": {
  "kernelspec": {
   "display_name": "Python 3 (ipykernel)",
   "language": "python",
   "name": "python3"
  },
  "language_info": {
   "codemirror_mode": {
    "name": "ipython",
    "version": 3
   },
   "file_extension": ".py",
   "mimetype": "text/x-python",
   "name": "python",
   "nbconvert_exporter": "python",
   "pygments_lexer": "ipython3",
   "version": "3.13.5"
  }
 },
 "nbformat": 4,
 "nbformat_minor": 5
}

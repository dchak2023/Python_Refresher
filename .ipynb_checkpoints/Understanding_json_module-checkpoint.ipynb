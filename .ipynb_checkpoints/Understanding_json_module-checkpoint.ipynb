{
 "cells": [
  {
   "cell_type": "markdown",
   "id": "f98359cd-036f-4f43-ab51-db0aa899c4c2",
   "metadata": {},
   "source": [
    "## Understanding the *Json* module in the Python"
   ]
  },
  {
   "cell_type": "code",
   "execution_count": null,
   "id": "43573871-7f21-440b-87d6-81553d6df9e8",
   "metadata": {},
   "outputs": [],
   "source": []
  }
 ],
 "metadata": {
  "kernelspec": {
   "display_name": "Python 3 (ipykernel)",
   "language": "python",
   "name": "python3"
  },
  "language_info": {
   "codemirror_mode": {
    "name": "ipython",
    "version": 3
   },
   "file_extension": ".py",
   "mimetype": "text/x-python",
   "name": "python",
   "nbconvert_exporter": "python",
   "pygments_lexer": "ipython3",
   "version": "3.13.5"
  }
 },
 "nbformat": 4,
 "nbformat_minor": 5
}
